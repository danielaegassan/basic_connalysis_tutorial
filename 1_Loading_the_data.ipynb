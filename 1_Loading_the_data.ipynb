{
 "cells": [
  {
   "cell_type": "markdown",
   "id": "84d6ca34-8d3a-415c-8cd1-cf4dc381dfe4",
   "metadata": {},
   "source": [
    "# Loading the data \n",
    "\n",
    "Here we provide a minimalist way to get connectomes of: \n",
    "\n",
    "* adult Celegans and\n",
    "* small central volume of the MICrONS data set,\n",
    "\n",
    "in order to quickly get into playing the connalysis tools.  The code is taken from:\n",
    "\n",
    "https://github.com/BlueBrain/ConnectomeUtilities/blob/main/examples\n",
    "\n",
    "where the data sets are explored in more detail.\n"
   ]
  },
  {
   "cell_type": "code",
   "execution_count": 1,
   "id": "f5ef0078-57bf-44fd-bdce-2e66b989da9e",
   "metadata": {},
   "outputs": [],
   "source": [
    "from helpers import read_connectomes\n",
    "import matplotlib.pyplot as plt\n",
    "import numpy as np"
   ]
  },
  {
   "cell_type": "markdown",
   "id": "7697c8b9-3cf7-49b0-9ed2-d1ea280875f6",
   "metadata": {},
   "source": [
    "### Celegans data "
   ]
  },
  {
   "cell_type": "markdown",
   "id": "231b3173-cd20-4495-b10e-f0e3bbd98e61",
   "metadata": {},
   "source": [
    "We will use the data from *Witvliet et al* found at https://www.ncbi.nlm.nih.gov/pmc/articles/PMC8756380/ \n",
    "\n",
    "Download the data in the following links:\n",
    "* https://www.wormatlas.org/images/NeuronType.xls\n",
    "* https://wormwiring.org/pages/witvliet.html\n",
    "\n",
    "and place them under``data_dir``."
   ]
  },
  {
   "cell_type": "code",
   "execution_count": 2,
   "id": "b8d0fd26-479c-4a3a-b682-5fdae0f33043",
   "metadata": {},
   "outputs": [
    {
     "name": "stdout",
     "output_type": "stream",
     "text": [
      "Warning!!! When accessing the adjacency as a sparse matrix using the .matrix property:\n",
      "    Connections that are not present at a given stage, but at other stages will be represented as edges,\n",
      "    but with a value of ``0`` synapses associated with them.  For structural analysis always use .eliminate_zeros\n"
     ]
    },
    {
     "name": "stderr",
     "output_type": "stream",
     "text": [
      "/gpfs/bbp.cscs.ch/home/egassant/basic_connalysis_tutorial/helpers/read_connectomes.py:174: FutureWarning: DataFrame.applymap has been deprecated. Use DataFrame.map instead.\n",
      "  edges_chem = syns_chem.index.to_frame().applymap(lambda x: nrn_idxx[x]).reset_index(drop=True)\n",
      "/gpfs/bbp.cscs.ch/home/egassant/basic_connalysis_tutorial/helpers/read_connectomes.py:175: FutureWarning: DataFrame.applymap has been deprecated. Use DataFrame.map instead.\n",
      "  edges_elec = syns_elec.index.to_frame().applymap(lambda x: nrn_idxx[x]).reset_index(drop=True)\n"
     ]
    }
   ],
   "source": [
    "data_dir=\"data\" # You chosen data directory \n",
    "# Loading Celegans connectome \n",
    "# The data has 8 stages of development.  This selects the adult worm\n",
    "developement_stage=8 \n",
    "conn=read_connectomes.load_C_elegans_stages(data_dir).filter(\"type\").eq(\"chemical\").default(developement_stage)\n"
   ]
  },
  {
   "cell_type": "markdown",
   "id": "cd2f12aa-8aa6-4eef-805a-c5869b3c4e02",
   "metadata": {},
   "source": [
    "You can get the matrix of the ConnectivityMatrix object and the vertex properties simply by doing: \n",
    "* ``conn.matrix``\n",
    "* ``conn.vertices``"
   ]
  },
  {
   "cell_type": "code",
   "execution_count": 3,
   "id": "38ab8af6-b3ef-4603-9df2-f56eb316961a",
   "metadata": {},
   "outputs": [
    {
     "data": {
      "text/html": [
       "<div>\n",
       "<style scoped>\n",
       "    .dataframe tbody tr th:only-of-type {\n",
       "        vertical-align: middle;\n",
       "    }\n",
       "\n",
       "    .dataframe tbody tr th {\n",
       "        vertical-align: top;\n",
       "    }\n",
       "\n",
       "    .dataframe thead th {\n",
       "        text-align: right;\n",
       "    }\n",
       "</style>\n",
       "<table border=\"1\" class=\"dataframe\">\n",
       "  <thead>\n",
       "    <tr style=\"text-align: right;\">\n",
       "      <th></th>\n",
       "      <th>index</th>\n",
       "      <th>Neuron</th>\n",
       "      <th>Soma Position</th>\n",
       "      <th>Soma Region</th>\n",
       "      <th>Span</th>\n",
       "      <th>Ambiguity</th>\n",
       "      <th>TotHead</th>\n",
       "      <th>TotTail</th>\n",
       "      <th>TotMid</th>\n",
       "      <th>S_Head</th>\n",
       "      <th>R_Head</th>\n",
       "      <th>S_Mid</th>\n",
       "      <th>R_Mid</th>\n",
       "      <th>S_Tail</th>\n",
       "      <th>R_Tail</th>\n",
       "      <th>AY Ganglion Designation</th>\n",
       "      <th>AYNbr</th>\n",
       "    </tr>\n",
       "  </thead>\n",
       "  <tbody>\n",
       "    <tr>\n",
       "      <th>0</th>\n",
       "      <td>0</td>\n",
       "      <td>ADAL</td>\n",
       "      <td>0.21</td>\n",
       "      <td>H</td>\n",
       "      <td>S</td>\n",
       "      <td>NaN</td>\n",
       "      <td>47.0</td>\n",
       "      <td>0.0</td>\n",
       "      <td>0.0</td>\n",
       "      <td>33.0</td>\n",
       "      <td>8.0</td>\n",
       "      <td>0.0</td>\n",
       "      <td>0.0</td>\n",
       "      <td>0.0</td>\n",
       "      <td>0.0</td>\n",
       "      <td>E</td>\n",
       "      <td>141.0</td>\n",
       "    </tr>\n",
       "    <tr>\n",
       "      <th>1</th>\n",
       "      <td>1</td>\n",
       "      <td>ADAR</td>\n",
       "      <td>0.21</td>\n",
       "      <td>H</td>\n",
       "      <td>S</td>\n",
       "      <td>NaN</td>\n",
       "      <td>40.0</td>\n",
       "      <td>0.0</td>\n",
       "      <td>0.0</td>\n",
       "      <td>24.0</td>\n",
       "      <td>10.0</td>\n",
       "      <td>0.0</td>\n",
       "      <td>0.0</td>\n",
       "      <td>0.0</td>\n",
       "      <td>0.0</td>\n",
       "      <td>E</td>\n",
       "      <td>142.0</td>\n",
       "    </tr>\n",
       "    <tr>\n",
       "      <th>2</th>\n",
       "      <td>2</td>\n",
       "      <td>ADEL</td>\n",
       "      <td>0.21</td>\n",
       "      <td>H</td>\n",
       "      <td>S</td>\n",
       "      <td>NaN</td>\n",
       "      <td>57.0</td>\n",
       "      <td>0.0</td>\n",
       "      <td>0.0</td>\n",
       "      <td>45.0</td>\n",
       "      <td>10.0</td>\n",
       "      <td>0.0</td>\n",
       "      <td>0.0</td>\n",
       "      <td>0.0</td>\n",
       "      <td>0.0</td>\n",
       "      <td>E</td>\n",
       "      <td>143.0</td>\n",
       "    </tr>\n",
       "    <tr>\n",
       "      <th>3</th>\n",
       "      <td>3</td>\n",
       "      <td>ADER</td>\n",
       "      <td>0.21</td>\n",
       "      <td>H</td>\n",
       "      <td>S</td>\n",
       "      <td>NaN</td>\n",
       "      <td>51.0</td>\n",
       "      <td>0.0</td>\n",
       "      <td>0.0</td>\n",
       "      <td>38.0</td>\n",
       "      <td>12.0</td>\n",
       "      <td>0.0</td>\n",
       "      <td>0.0</td>\n",
       "      <td>0.0</td>\n",
       "      <td>0.0</td>\n",
       "      <td>E</td>\n",
       "      <td>144.0</td>\n",
       "    </tr>\n",
       "    <tr>\n",
       "      <th>4</th>\n",
       "      <td>4</td>\n",
       "      <td>ADFL</td>\n",
       "      <td>0.13</td>\n",
       "      <td>H</td>\n",
       "      <td>L</td>\n",
       "      <td>NaN</td>\n",
       "      <td>52.0</td>\n",
       "      <td>0.0</td>\n",
       "      <td>0.0</td>\n",
       "      <td>39.0</td>\n",
       "      <td>12.0</td>\n",
       "      <td>0.0</td>\n",
       "      <td>0.0</td>\n",
       "      <td>0.0</td>\n",
       "      <td>0.0</td>\n",
       "      <td>C</td>\n",
       "      <td>45.0</td>\n",
       "    </tr>\n",
       "  </tbody>\n",
       "</table>\n",
       "</div>"
      ],
      "text/plain": [
       "   index Neuron  Soma Position Soma Region  Span   Ambiguity   TotHead  \\\n",
       "0      0   ADAL           0.21           H      S         NaN     47.0   \n",
       "1      1   ADAR           0.21           H      S         NaN     40.0   \n",
       "2      2   ADEL           0.21           H      S         NaN     57.0   \n",
       "3      3   ADER           0.21           H      S         NaN     51.0   \n",
       "4      4   ADFL           0.13           H      L         NaN     52.0   \n",
       "\n",
       "   TotTail  TotMid  S_Head  R_Head  S_Mid  R_Mid  S_Tail  R_Tail  \\\n",
       "0      0.0     0.0    33.0     8.0    0.0    0.0     0.0     0.0   \n",
       "1      0.0     0.0    24.0    10.0    0.0    0.0     0.0     0.0   \n",
       "2      0.0     0.0    45.0    10.0    0.0    0.0     0.0     0.0   \n",
       "3      0.0     0.0    38.0    12.0    0.0    0.0     0.0     0.0   \n",
       "4      0.0     0.0    39.0    12.0    0.0    0.0     0.0     0.0   \n",
       "\n",
       "   AY Ganglion Designation   AYNbr   \n",
       "0                        E    141.0  \n",
       "1                        E    142.0  \n",
       "2                        E    143.0  \n",
       "3                        E    144.0  \n",
       "4                        C     45.0  "
      ]
     },
     "metadata": {},
     "output_type": "display_data"
    },
    {
     "data": {
      "text/plain": [
       "scipy.sparse._coo.coo_matrix"
      ]
     },
     "execution_count": 3,
     "metadata": {},
     "output_type": "execute_result"
    }
   ],
   "source": [
    "display(conn.vertices.head())\n",
    "type(conn.matrix)"
   ]
  },
  {
   "cell_type": "code",
   "execution_count": 4,
   "id": "c1c6c3dd-6880-472b-9953-c060c63bbf53",
   "metadata": {},
   "outputs": [],
   "source": [
    "# Remove isolated nodes\n",
    "from connalysis.network import topology\n",
    "conn.add_vertex_property('valid_cell', (topology.node_degree(conn.matrix)!=0)) \n",
    "conn=conn.index(\"valid_cell\").isin(True)  "
   ]
  },
  {
   "cell_type": "markdown",
   "id": "451a1cca-7b21-41a2-9df5-3bbc4f834033",
   "metadata": {},
   "source": [
    "Sanity check your data by at least look at the distributions of the entries in your matrix."
   ]
  },
  {
   "cell_type": "markdown",
   "id": "641094c5-2a26-460f-9fc6-4c3c04f9b84b",
   "metadata": {},
   "source": [
    "Sanity check your data by at least look at the distributions of the entries in your matrix."
   ]
  },
  {
   "cell_type": "code",
   "execution_count": 5,
   "id": "0466a03f-da18-4a9b-a485-78b0ad53159c",
   "metadata": {},
   "outputs": [
    {
     "data": {
      "image/png": "[encoded data removed]",
      "text/plain": [
       "<Figure size 640x480 with 1 Axes>"
      ]
     },
     "metadata": {},
     "output_type": "display_data"
    }
   ],
   "source": [
    "adj=conn.matrix.toarray()\n",
    "weights=adj[adj!=0]\n",
    "plt.hist(weights) \n",
    "plt.yscale(\"log\")"
   ]
  },
  {
   "cell_type": "markdown",
   "id": "a1e505e2-457e-47b9-b2c5-3a092f6d61dc",
   "metadata": {},
   "source": [
    "### MICrONS data "
   ]
  },
  {
   "cell_type": "markdown",
   "id": "8c83b53f-6641-4f04-8c93-3f5c7e04779b",
   "metadata": {},
   "source": [
    "We will use the data from connectivity of the of the IARPA MICrONS mm^3 dataset (https://www.microns-explorer.org/cortical-mm3), formatted into a ConnectivityMatrix object.\n",
    "\n",
    "Dowload the data from zenodo from https://zenodo.org/record/8364070 and place it under ``data_dir``.\n"
   ]
  },
  {
   "cell_type": "markdown",
   "id": "144b7883-de84-4440-8edf-64d7936a0f49",
   "metadata": {},
   "source": [
    "Load the connectivity of the of the IARPA MICrONS mm^3 dataset (https://www.microns-explorer.org/cortical-mm3), formatted into a ConnectivityMatrix object as provided in https://zenodo.org/record/8364070\n",
    "    To run this function it is required to dowload the data from zenodo and place it under data.\n",
    "    The code of the function is extracted from the notebook ``Microns check edge effect.ipynb`` in the zenodo link above.\n",
    "    \"\"\""
   ]
  },
  {
   "cell_type": "code",
   "execution_count": 6,
   "id": "e7074505-8b91-4d12-b5be-201f3e045460",
   "metadata": {},
   "outputs": [],
   "source": [
    "exc_types=['23P', '4P', '5P_IT', '5P_NP', '5P_PT', '6CT', '6IT', 'BPC']\n",
    "# Load data and restrict to EXC neurons\n",
    "conn=read_connectomes.load_microns(data_dir).index(\"cell_type\").isin(exc_types)"
   ]
  },
  {
   "cell_type": "markdown",
   "id": "d0143ac1-9567-46c7-8ae0-300a7ed1068a",
   "metadata": {},
   "source": [
    "Sanity check your data by at least look at the distributions of the entries in your matrix."
   ]
  },
  {
   "cell_type": "code",
   "execution_count": 7,
   "id": "963bec3a-61a5-4183-922a-3a087f2e16f8",
   "metadata": {},
   "outputs": [
    {
     "data": {
      "image/png": "[encoded data removed]",
      "text/plain": [
       "<Figure size 640x480 with 1 Axes>"
      ]
     },
     "metadata": {},
     "output_type": "display_data"
    }
   ],
   "source": [
    "adj=conn.matrix.toarray()\n",
    "weights=adj[adj!=0]\n",
    "plt.hist(weights) \n",
    "plt.yscale(\"log\")"
   ]
  },
  {
   "cell_type": "code",
   "execution_count": null,
   "id": "e0208d65-866a-4d3e-86e4-f42e8e711db9",
   "metadata": {},
   "outputs": [],
   "source": []
  }
 ],
 "metadata": {
  "kernelspec": {
   "display_name": "Python 3 (ipykernel)",
   "language": "python",
   "name": "python3"
  },
  "language_info": {
   "codemirror_mode": {
    "name": "ipython",
    "version": 3
   },
   "file_extension": ".py",
   "mimetype": "text/x-python",
   "name": "python",
   "nbconvert_exporter": "python",
   "pygments_lexer": "ipython3",
   "version": "3.10.8"
  }
 },
 "nbformat": 4,
 "nbformat_minor": 5
}
