{
 "cells": [
  {
   "cell_type": "markdown",
   "id": "bbd4e674-6b2b-4d5c-b38a-3d90e44b1714",
   "metadata": {},
   "source": [
    "# Basic statistics on subgraphs \n",
    "\n",
    "This notebook showcases how to easily get (weighted) averages of node and edge based properties across neighborhoods or the simplicial structure. "
   ]
  },
  {
   "cell_type": "code",
   "execution_count": 1,
   "id": "8634fb28-352a-4250-8091-90b205659f39",
   "metadata": {},
   "outputs": [],
   "source": [
    "from connalysis.network import local, topology\n",
    "from connalysis.network import stats as nstats\n",
    "import pandas as pd\n",
    "import numpy as np\n",
    "import matplotlib.pyplot as plt"
   ]
  },
  {
   "cell_type": "code",
   "execution_count": 2,
   "id": "44b66f2d-af50-440a-9381-7b0d38b4c1c6",
   "metadata": {},
   "outputs": [
    {
     "name": "stdout",
     "output_type": "stream",
     "text": [
      "Warning!!! When accessing the adjacency as a sparse matrix using the .matrix property:\n",
      "    Connections that are not present at a given stage, but at other stages will be represented as edges,\n",
      "    but with a value of ``0`` synapses associated with them.  For structural analysis always use .eliminate_zeros\n"
     ]
    },
    {
     "name": "stderr",
     "output_type": "stream",
     "text": [
      "/gpfs/bbp.cscs.ch/home/egassant/basic_connalysis_tutorial/helpers/read_connectomes.py:174: FutureWarning: DataFrame.applymap has been deprecated. Use DataFrame.map instead.\n",
      "  edges_chem = syns_chem.index.to_frame().applymap(lambda x: nrn_idxx[x]).reset_index(drop=True)\n",
      "/gpfs/bbp.cscs.ch/home/egassant/basic_connalysis_tutorial/helpers/read_connectomes.py:175: FutureWarning: DataFrame.applymap has been deprecated. Use DataFrame.map instead.\n",
      "  edges_elec = syns_elec.index.to_frame().applymap(lambda x: nrn_idxx[x]).reset_index(drop=True)\n"
     ]
    }
   ],
   "source": [
    "# Load the connectome (see the \"Loading_the_data\" notebook)\n",
    "from helpers import read_connectomes\n",
    "data_dir=\"data\" # You chosen data directory \n",
    "# Loading Celegans connectome \n",
    "conn=read_connectomes.load_C_elegans_stages(data_dir).filter(\"type\").eq(\"chemical\").default(8)\n",
    "conn.add_vertex_property('valid_cell', (topology.node_degree(conn.matrix)!=0)) \n",
    "conn=conn.index(\"valid_cell\").isin(True)  \n",
    "adj=conn.matrix\n",
    "adj.eliminate_zeros()"
   ]
  },
  {
   "cell_type": "markdown",
   "id": "ddcd3288-4820-43ed-8949-19e95663175d",
   "metadata": {},
   "source": [
    "## Computing node based and edge based data\n",
    "\n",
    "We first precompute edge and node participation, in order to generate synthetic data for analysis. "
   ]
  },
  {
   "cell_type": "code",
   "execution_count": 3,
   "id": "5bf84fef-e520-4600-be82-60b6c86d97a1",
   "metadata": {},
   "outputs": [
    {
     "name": "stderr",
     "output_type": "stream",
     "text": [
      " 2024-05-29 14:53:58,232: Done running flagser\n"
     ]
    }
   ],
   "source": [
    "node_par = topology.node_participation(adj)\n",
    "edge_par = topology.edge_participation(adj)"
   ]
  },
  {
   "cell_type": "markdown",
   "id": "7f32edd8-ee1c-451b-b692-0da5c5232534",
   "metadata": {},
   "source": [
    "We consider two types data, possibly activity data: \n",
    "\n",
    "* **node based**: one value per node e.g., size of its neighborhood or realiability of of that neuron's activity.\n",
    "* **edge based**: one vakye per edge e.g., correlation of the activity of connected pairs.  \n",
    "\n",
    "\n",
    "To showcase the methods we will use the size of a neighborhood of each node and the average size of the neighborhoods of all connected nodes.\n",
    "\n",
    "We first compute all neighborhoods."
   ]
  },
  {
   "cell_type": "code",
   "execution_count": 4,
   "id": "3fb36584-40ac-4298-a0ff-705f88089607",
   "metadata": {},
   "outputs": [
    {
     "data": {
      "text/plain": [
       "center\n",
       "0      [2, 6, 10, 32, 38, 42, 43, 44, 45, 47, 54, 55,...\n",
       "1      [3, 11, 15, 33, 42, 43, 44, 45, 49, 54, 74, 77...\n",
       "2      [0, 3, 25, 42, 43, 57, 68, 70, 72, 74, 82, 88,...\n",
       "3      [1, 2, 17, 24, 26, 42, 43, 47, 49, 57, 71, 73,...\n",
       "4      [10, 12, 13, 18, 20, 32, 40, 53, 60, 62, 63, 6...\n",
       "                             ...                        \n",
       "214                  [17, 30, 34, 68, 72, 102, 109, 121]\n",
       "215     [3, 15, 16, 22, 35, 37, 102, 107, 109, 121, 140]\n",
       "216                                            [87, 121]\n",
       "217                                        [83, 85, 171]\n",
       "218                                                 [90]\n",
       "Name: neighbors, Length: 219, dtype: object"
      ]
     },
     "metadata": {},
     "output_type": "display_data"
    }
   ],
   "source": [
    "nbds = local.neighborhood_indices(adj)\n",
    "display(nbds)"
   ]
  },
  {
   "cell_type": "markdown",
   "id": "a8fb906b-0474-4d05-a876-41908aa98e9d",
   "metadata": {},
   "source": [
    "We now compute their sizes and the average for each connected pair"
   ]
  },
  {
   "cell_type": "code",
   "execution_count": 5,
   "id": "78528fa8-e432-4621-a8de-2af5d8512bad",
   "metadata": {},
   "outputs": [],
   "source": [
    "nbd_size = nbds.apply(len)+1\n",
    "sources, targets = zip(*list(edge_par.index))\n",
    "av_nbd_size_edge = pd.Series(nbd_size.iloc[np.array(sources)].to_numpy()+nbd_size.iloc[np.array(targets)].to_numpy(), \n",
    "                             index = edge_par.index)"
   ]
  },
  {
   "cell_type": "markdown",
   "id": "b41e47f2-fb3b-4094-8767-4d1bd2d4afcb",
   "metadata": {},
   "source": [
    "## We can now do basic averages of these across neighborhoods and the higher order structure\n",
    "\n",
    "### Average on neighborhoods"
   ]
  },
  {
   "cell_type": "markdown",
   "id": "87b25914-e47a-4b62-b374-2c5a47fb2536",
   "metadata": {},
   "source": [
    "You can get average values of a node property across neighborhoods.  If your graph is small you can compute the neighborhoods on the fly. "
   ]
  },
  {
   "cell_type": "code",
   "execution_count": 6,
   "id": "de592669-f7bd-4681-b9aa-1f289a1ff6a4",
   "metadata": {},
   "outputs": [
    {
     "data": {
      "text/html": [
       "<div>\n",
       "<style scoped>\n",
       "    .dataframe tbody tr th:only-of-type {\n",
       "        vertical-align: middle;\n",
       "    }\n",
       "\n",
       "    .dataframe tbody tr th {\n",
       "        vertical-align: top;\n",
       "    }\n",
       "\n",
       "    .dataframe thead th {\n",
       "        text-align: right;\n",
       "    }\n",
       "</style>\n",
       "<table border=\"1\" class=\"dataframe\">\n",
       "  <thead>\n",
       "    <tr style=\"text-align: right;\">\n",
       "      <th></th>\n",
       "      <th>sum</th>\n",
       "      <th>mean</th>\n",
       "      <th>std</th>\n",
       "      <th>sem</th>\n",
       "    </tr>\n",
       "    <tr>\n",
       "      <th>center</th>\n",
       "      <th></th>\n",
       "      <th></th>\n",
       "      <th></th>\n",
       "      <th></th>\n",
       "    </tr>\n",
       "  </thead>\n",
       "  <tbody>\n",
       "    <tr>\n",
       "      <th>0</th>\n",
       "      <td>693</td>\n",
       "      <td>24.750000</td>\n",
       "      <td>6.478674</td>\n",
       "      <td>1.246821</td>\n",
       "    </tr>\n",
       "    <tr>\n",
       "      <th>1</th>\n",
       "      <td>576</td>\n",
       "      <td>26.181818</td>\n",
       "      <td>7.767276</td>\n",
       "      <td>1.694959</td>\n",
       "    </tr>\n",
       "    <tr>\n",
       "      <th>2</th>\n",
       "      <td>760</td>\n",
       "      <td>25.333333</td>\n",
       "      <td>8.092521</td>\n",
       "      <td>1.502743</td>\n",
       "    </tr>\n",
       "    <tr>\n",
       "      <th>3</th>\n",
       "      <td>747</td>\n",
       "      <td>23.343750</td>\n",
       "      <td>8.745032</td>\n",
       "      <td>1.570654</td>\n",
       "    </tr>\n",
       "    <tr>\n",
       "      <th>4</th>\n",
       "      <td>481</td>\n",
       "      <td>25.315789</td>\n",
       "      <td>9.078909</td>\n",
       "      <td>2.139919</td>\n",
       "    </tr>\n",
       "    <tr>\n",
       "      <th>...</th>\n",
       "      <td>...</td>\n",
       "      <td>...</td>\n",
       "      <td>...</td>\n",
       "      <td>...</td>\n",
       "    </tr>\n",
       "    <tr>\n",
       "      <th>214</th>\n",
       "      <td>174</td>\n",
       "      <td>19.333333</td>\n",
       "      <td>8.679478</td>\n",
       "      <td>3.068659</td>\n",
       "    </tr>\n",
       "    <tr>\n",
       "      <th>215</th>\n",
       "      <td>229</td>\n",
       "      <td>19.083333</td>\n",
       "      <td>9.376018</td>\n",
       "      <td>2.826976</td>\n",
       "    </tr>\n",
       "    <tr>\n",
       "      <th>216</th>\n",
       "      <td>55</td>\n",
       "      <td>18.333333</td>\n",
       "      <td>13.572849</td>\n",
       "      <td>9.597453</td>\n",
       "    </tr>\n",
       "    <tr>\n",
       "      <th>217</th>\n",
       "      <td>63</td>\n",
       "      <td>15.750000</td>\n",
       "      <td>8.554969</td>\n",
       "      <td>4.939214</td>\n",
       "    </tr>\n",
       "    <tr>\n",
       "      <th>218</th>\n",
       "      <td>16</td>\n",
       "      <td>8.000000</td>\n",
       "      <td>6.000000</td>\n",
       "      <td>6.000000</td>\n",
       "    </tr>\n",
       "  </tbody>\n",
       "</table>\n",
       "<p>219 rows × 4 columns</p>\n",
       "</div>"
      ],
      "text/plain": [
       "        sum       mean        std       sem\n",
       "center                                     \n",
       "0       693  24.750000   6.478674  1.246821\n",
       "1       576  26.181818   7.767276  1.694959\n",
       "2       760  25.333333   8.092521  1.502743\n",
       "3       747  23.343750   8.745032  1.570654\n",
       "4       481  25.315789   9.078909  2.139919\n",
       "...     ...        ...        ...       ...\n",
       "214     174  19.333333   8.679478  3.068659\n",
       "215     229  19.083333   9.376018  2.826976\n",
       "216      55  18.333333  13.572849  9.597453\n",
       "217      63  15.750000   8.554969  4.939214\n",
       "218      16   8.000000   6.000000  6.000000\n",
       "\n",
       "[219 rows x 4 columns]"
      ]
     },
     "execution_count": 6,
     "metadata": {},
     "output_type": "execute_result"
    }
   ],
   "source": [
    "nstats.node_stats_neighborhood(nbd_size, adj)"
   ]
  },
  {
   "cell_type": "markdown",
   "id": "37f44ffc-77ab-48de-9f3b-30060d4063b3",
   "metadata": {},
   "source": [
    "In general, it is more efficient to precompute the neighborhoods and pass them directly to the function."
   ]
  },
  {
   "cell_type": "code",
   "execution_count": 7,
   "id": "70912e47-218a-4447-a62d-3654b63c433f",
   "metadata": {},
   "outputs": [],
   "source": [
    "nbd_av=nstats.node_stats_neighborhood(nbd_size, include_center=True,precomputed=True,neighborhoods=nbds)"
   ]
  },
  {
   "cell_type": "markdown",
   "id": "1d11348f-eac5-4d2c-b948-5918004430f5",
   "metadata": {},
   "source": [
    "Unsurprisingly, the size of a neighborhood is strongly correlated to the sum of the neighborhoods of the node it contains.  This relationship is weaker if we instead consider the for the incoming and outgoing neighborhoods instead, due to the directionality of the network."
   ]
  },
  {
   "cell_type": "code",
   "execution_count": 8,
   "id": "7a886292-12c0-4434-848f-f30d9f181339",
   "metadata": {},
   "outputs": [
    {
     "data": {
      "text/plain": [
       "Text(0, 0.5, 'Sum of neighborhood sizes')"
      ]
     },
     "execution_count": 8,
     "metadata": {},
     "output_type": "execute_result"
    },
    {
     "data": {
      "image/png": "[encoded data removed]",
      "text/plain": [
       "<Figure size 640x480 with 1 Axes>"
      ]
     },
     "metadata": {},
     "output_type": "display_data"
    }
   ],
   "source": [
    "nbds_in = local.neighborhood_indices(adj, pre=True, post=False)\n",
    "nbds_out = local.neighborhood_indices(adj, pre=False, post=True)\n",
    "\n",
    "# Plotting \n",
    "plt.scatter(nbds_in.apply(len)+1, nbd_av[\"sum\"], label =\"in\")\n",
    "plt.scatter(nbds_out.apply(len)+1, nbd_av[\"sum\"], label=\"out\")\n",
    "plt.scatter(nbd_size, nbd_av[\"sum\"], label=\"full\", color=\"gray\")\n",
    "plt.legend(frameon=False)\n",
    "plt.xlabel(\"Neighborhood size\") \n",
    "plt.ylabel(\"Sum of neighborhood sizes\") \n"
   ]
  },
  {
   "cell_type": "markdown",
   "id": "4b18ffb5-5ab9-435d-8b96-03030fed1dc1",
   "metadata": {},
   "source": [
    "# Average across the higher order structure "
   ]
  },
  {
   "cell_type": "markdown",
   "id": "4493542f-f9f7-4857-ab5a-e1db6ce54734",
   "metadata": {},
   "source": [
    "### Node based properties\n",
    "\n",
    "We can compute the average value of a node based property on the nodes that belong to a k-dimensional simplex in a single line. \n",
    "Make sure you understand the output of this function.\n",
    "\n",
    "* What should the values in dimension 0 mean?\n",
    "* What should the values in dimension 1 mean?\n",
    "* What is the weighted mean?"
   ]
  },
  {
   "cell_type": "code",
   "execution_count": 9,
   "id": "3cce33c7-1ecd-4ec4-8a9a-94f038262311",
   "metadata": {},
   "outputs": [
    {
     "data": {
      "text/html": [
       "<div>\n",
       "<style scoped>\n",
       "    .dataframe tbody tr th:only-of-type {\n",
       "        vertical-align: middle;\n",
       "    }\n",
       "\n",
       "    .dataframe tbody tr th {\n",
       "        vertical-align: top;\n",
       "    }\n",
       "\n",
       "    .dataframe thead th {\n",
       "        text-align: right;\n",
       "    }\n",
       "</style>\n",
       "<table border=\"1\" class=\"dataframe\">\n",
       "  <thead>\n",
       "    <tr style=\"text-align: right;\">\n",
       "      <th></th>\n",
       "      <th>counts</th>\n",
       "      <th>mean</th>\n",
       "      <th>std</th>\n",
       "      <th>sem</th>\n",
       "      <th>weighted_mean</th>\n",
       "    </tr>\n",
       "    <tr>\n",
       "      <th>dim</th>\n",
       "      <th></th>\n",
       "      <th></th>\n",
       "      <th></th>\n",
       "      <th></th>\n",
       "      <th></th>\n",
       "    </tr>\n",
       "  </thead>\n",
       "  <tbody>\n",
       "    <tr>\n",
       "      <th>0</th>\n",
       "      <td>219</td>\n",
       "      <td>18.223744</td>\n",
       "      <td>9.422124</td>\n",
       "      <td>0.638147</td>\n",
       "      <td>18.223744</td>\n",
       "    </tr>\n",
       "    <tr>\n",
       "      <th>1</th>\n",
       "      <td>219</td>\n",
       "      <td>18.223744</td>\n",
       "      <td>9.422124</td>\n",
       "      <td>0.638147</td>\n",
       "      <td>23.433211</td>\n",
       "    </tr>\n",
       "    <tr>\n",
       "      <th>2</th>\n",
       "      <td>217</td>\n",
       "      <td>18.373272</td>\n",
       "      <td>9.335223</td>\n",
       "      <td>0.635181</td>\n",
       "      <td>26.209358</td>\n",
       "    </tr>\n",
       "    <tr>\n",
       "      <th>3</th>\n",
       "      <td>194</td>\n",
       "      <td>19.819588</td>\n",
       "      <td>8.782799</td>\n",
       "      <td>0.632200</td>\n",
       "      <td>28.540746</td>\n",
       "    </tr>\n",
       "    <tr>\n",
       "      <th>4</th>\n",
       "      <td>135</td>\n",
       "      <td>22.925926</td>\n",
       "      <td>8.251267</td>\n",
       "      <td>0.712801</td>\n",
       "      <td>31.344529</td>\n",
       "    </tr>\n",
       "    <tr>\n",
       "      <th>5</th>\n",
       "      <td>51</td>\n",
       "      <td>28.294118</td>\n",
       "      <td>8.008070</td>\n",
       "      <td>1.132512</td>\n",
       "      <td>33.223601</td>\n",
       "    </tr>\n",
       "    <tr>\n",
       "      <th>6</th>\n",
       "      <td>11</td>\n",
       "      <td>32.363636</td>\n",
       "      <td>4.959339</td>\n",
       "      <td>1.568281</td>\n",
       "      <td>33.229730</td>\n",
       "    </tr>\n",
       "  </tbody>\n",
       "</table>\n",
       "</div>"
      ],
      "text/plain": [
       "     counts       mean       std       sem  weighted_mean\n",
       "dim                                                      \n",
       "0       219  18.223744  9.422124  0.638147      18.223744\n",
       "1       219  18.223744  9.422124  0.638147      23.433211\n",
       "2       217  18.373272  9.335223  0.635181      26.209358\n",
       "3       194  19.819588  8.782799  0.632200      28.540746\n",
       "4       135  22.925926  8.251267  0.712801      31.344529\n",
       "5        51  28.294118  8.008070  1.132512      33.223601\n",
       "6        11  32.363636  4.959339  1.568281      33.229730"
      ]
     },
     "execution_count": 9,
     "metadata": {},
     "output_type": "execute_result"
    }
   ],
   "source": [
    "import operator \n",
    "df_nodes_ge = nstats.node_stats_participation(node_par,nbd_size, condition=operator.ge)\n",
    "df_nodes_ge "
   ]
  },
  {
   "cell_type": "markdown",
   "id": "8fa938b6-6a6a-408e-941e-7877458db874",
   "metadata": {},
   "source": [
    "We can also compute the average value of a node based property on the nodes that belong to a k-dimensional simplex but not to a higher dimensional one. Make sure you understand the output of this function.  In particular:\n",
    "\n",
    "* How is it different from the above?  What is it relationship to maximal simplices?\n",
    "* What should the values in dimension 0 mean?\n",
    "* What should the values in dimension 1 mean?"
   ]
  },
  {
   "cell_type": "code",
   "execution_count": 10,
   "id": "d438ccbb-0fa7-41c6-9341-51bc1aff80d9",
   "metadata": {},
   "outputs": [
    {
     "name": "stderr",
     "output_type": "stream",
     "text": [
      "/gpfs/bbp.cscs.ch/home/egassant/conndemo/lib/python3.10/site-packages/connalysis/network/stats.py:140: RuntimeWarning: invalid value encountered in scalar divide\n",
      "  w_mean = c.apply(np.product, axis=1).sum() / (c[\"weight\"].sum())\n",
      "/gpfs/bbp.cscs.ch/home/egassant/conndemo/lib/python3.10/site-packages/numpy/core/fromnumeric.py:3504: RuntimeWarning: Mean of empty slice.\n",
      "  return _methods._mean(a, axis=axis, dtype=dtype,\n",
      "/gpfs/bbp.cscs.ch/home/egassant/conndemo/lib/python3.10/site-packages/numpy/core/_methods.py:129: RuntimeWarning: invalid value encountered in scalar divide\n",
      "  ret = ret.dtype.type(ret / rcount)\n",
      "/gpfs/bbp.cscs.ch/home/egassant/conndemo/lib/python3.10/site-packages/numpy/core/fromnumeric.py:3787: RuntimeWarning: Degrees of freedom <= 0 for slice\n",
      "  return _methods._var(a, axis=axis, dtype=dtype, out=out, ddof=ddof,\n",
      "/gpfs/bbp.cscs.ch/home/egassant/conndemo/lib/python3.10/site-packages/numpy/core/_methods.py:163: RuntimeWarning: invalid value encountered in divide\n",
      "  arrmean = um.true_divide(arrmean, div, out=arrmean,\n",
      "/gpfs/bbp.cscs.ch/home/egassant/conndemo/lib/python3.10/site-packages/numpy/core/_methods.py:198: RuntimeWarning: invalid value encountered in scalar divide\n",
      "  ret = ret.dtype.type(ret / rcount)\n",
      "/gpfs/bbp.cscs.ch/home/egassant/conndemo/lib/python3.10/site-packages/numpy/core/_methods.py:206: RuntimeWarning: Degrees of freedom <= 0 for slice\n",
      "  ret = _var(a, axis=axis, dtype=dtype, out=out, ddof=ddof,\n"
     ]
    },
    {
     "data": {
      "text/html": [
       "<div>\n",
       "<style scoped>\n",
       "    .dataframe tbody tr th:only-of-type {\n",
       "        vertical-align: middle;\n",
       "    }\n",
       "\n",
       "    .dataframe tbody tr th {\n",
       "        vertical-align: top;\n",
       "    }\n",
       "\n",
       "    .dataframe thead th {\n",
       "        text-align: right;\n",
       "    }\n",
       "</style>\n",
       "<table border=\"1\" class=\"dataframe\">\n",
       "  <thead>\n",
       "    <tr style=\"text-align: right;\">\n",
       "      <th></th>\n",
       "      <th>counts</th>\n",
       "      <th>mean</th>\n",
       "      <th>std</th>\n",
       "      <th>sem</th>\n",
       "      <th>weighted_mean</th>\n",
       "    </tr>\n",
       "    <tr>\n",
       "      <th>dim</th>\n",
       "      <th></th>\n",
       "      <th></th>\n",
       "      <th></th>\n",
       "      <th></th>\n",
       "      <th></th>\n",
       "    </tr>\n",
       "  </thead>\n",
       "  <tbody>\n",
       "    <tr>\n",
       "      <th>0</th>\n",
       "      <td>0</td>\n",
       "      <td>NaN</td>\n",
       "      <td>NaN</td>\n",
       "      <td>NaN</td>\n",
       "      <td>NaN</td>\n",
       "    </tr>\n",
       "    <tr>\n",
       "      <th>1</th>\n",
       "      <td>2</td>\n",
       "      <td>2.000000</td>\n",
       "      <td>0.000000</td>\n",
       "      <td>0.000000</td>\n",
       "      <td>2.000000</td>\n",
       "    </tr>\n",
       "    <tr>\n",
       "      <th>2</th>\n",
       "      <td>23</td>\n",
       "      <td>6.173913</td>\n",
       "      <td>2.258360</td>\n",
       "      <td>0.481484</td>\n",
       "      <td>7.186047</td>\n",
       "    </tr>\n",
       "    <tr>\n",
       "      <th>3</th>\n",
       "      <td>59</td>\n",
       "      <td>12.711864</td>\n",
       "      <td>5.025531</td>\n",
       "      <td>0.659885</td>\n",
       "      <td>15.054400</td>\n",
       "    </tr>\n",
       "    <tr>\n",
       "      <th>4</th>\n",
       "      <td>84</td>\n",
       "      <td>19.666667</td>\n",
       "      <td>6.508846</td>\n",
       "      <td>0.714439</td>\n",
       "      <td>22.599015</td>\n",
       "    </tr>\n",
       "    <tr>\n",
       "      <th>5</th>\n",
       "      <td>40</td>\n",
       "      <td>27.175000</td>\n",
       "      <td>8.318316</td>\n",
       "      <td>1.331997</td>\n",
       "      <td>32.566275</td>\n",
       "    </tr>\n",
       "    <tr>\n",
       "      <th>6</th>\n",
       "      <td>11</td>\n",
       "      <td>32.363636</td>\n",
       "      <td>4.959339</td>\n",
       "      <td>1.568281</td>\n",
       "      <td>33.229730</td>\n",
       "    </tr>\n",
       "  </tbody>\n",
       "</table>\n",
       "</div>"
      ],
      "text/plain": [
       "     counts       mean       std       sem  weighted_mean\n",
       "dim                                                      \n",
       "0         0        NaN       NaN       NaN            NaN\n",
       "1         2   2.000000  0.000000  0.000000       2.000000\n",
       "2        23   6.173913  2.258360  0.481484       7.186047\n",
       "3        59  12.711864  5.025531  0.659885      15.054400\n",
       "4        84  19.666667  6.508846  0.714439      22.599015\n",
       "5        40  27.175000  8.318316  1.331997      32.566275\n",
       "6        11  32.363636  4.959339  1.568281      33.229730"
      ]
     },
     "execution_count": 10,
     "metadata": {},
     "output_type": "execute_result"
    }
   ],
   "source": [
    "df_nodes_eq = nstats.node_stats_participation(node_par,nbd_size, condition=operator.eq)\n",
    "df_nodes_eq"
   ]
  },
  {
   "cell_type": "markdown",
   "id": "9e0708cd-ce9f-4358-b9bc-480a4428e651",
   "metadata": {},
   "source": [
    "Note that there is an effect/relationship between the size of a neighborhood and how central it is in terms of it's higher structure.  This is why randomized controls are important for these kind of analyses.  "
   ]
  },
  {
   "cell_type": "code",
   "execution_count": 11,
   "id": "70bfe6f5-15c6-405b-8f59-4c7082e206cb",
   "metadata": {},
   "outputs": [
    {
     "data": {
      "text/plain": [
       "Text(0, 0.5, 'Neigborhood size')"
      ]
     },
     "execution_count": 11,
     "metadata": {},
     "output_type": "execute_result"
    },
    {
     "data": {
      "image/png": "[encoded data removed]",
      "text/plain": [
       "<Figure size 640x480 with 1 Axes>"
      ]
     },
     "metadata": {},
     "output_type": "display_data"
    }
   ],
   "source": [
    "plt.suptitle(\"Neighbood size across dimension\") \n",
    "plt.errorbar(df_nodes_ge.index, df_nodes_ge[\"mean\"],yerr=df_nodes_ge[\"sem\"], label=\"maximal\", marker=\"o\")\n",
    "plt.errorbar(df_nodes_eq.index, df_nodes_eq[\"mean\"], yerr=df_nodes_eq[\"sem\"],label=\"all\", marker=\"o\")\n",
    "plt.legend(frameon=False)\n",
    "plt.xlabel(\"Dimension\") \n",
    "plt.ylabel(\"Neigborhood size\") "
   ]
  },
  {
   "cell_type": "markdown",
   "id": "0ab02a02-994f-4730-ac06-2f735cc354fd",
   "metadata": {},
   "source": [
    "When you have time, check out ``nstats.node_stats_per_position`` or ``nstats.node_stats_per_position_single``, which do the same analysis as before but only for nodes in a fixed position.  Think about the following things before doing this analysis: \n",
    "\n",
    "* What is the position about the node in a simplex?"
   ]
  },
  {
   "cell_type": "markdown",
   "id": "e63eefe9-cd7f-4605-98b8-2caed781303a",
   "metadata": {},
   "source": [
    "### Edge based properties\n",
    "\n",
    "There are properties which are more naturally thought of as edge based properties e.g. correlation"
   ]
  },
  {
   "cell_type": "code",
   "execution_count": 12,
   "id": "1dc80f6a-9db0-4048-b06f-d4cd3b218150",
   "metadata": {},
   "outputs": [
    {
     "name": "stderr",
     "output_type": "stream",
     "text": [
      "/gpfs/bbp.cscs.ch/home/egassant/conndemo/lib/python3.10/site-packages/connalysis/network/stats.py:256: RuntimeWarning: invalid value encountered in scalar divide\n",
      "  w_mean = c.apply(np.product, axis=1).sum() / (c[\"weight\"].sum())\n",
      "/gpfs/bbp.cscs.ch/home/egassant/conndemo/lib/python3.10/site-packages/connalysis/network/stats.py:256: RuntimeWarning: invalid value encountered in scalar divide\n",
      "  w_mean = c.apply(np.product, axis=1).sum() / (c[\"weight\"].sum())\n",
      "/gpfs/bbp.cscs.ch/home/egassant/conndemo/lib/python3.10/site-packages/numpy/core/fromnumeric.py:3504: RuntimeWarning: Mean of empty slice.\n",
      "  return _methods._mean(a, axis=axis, dtype=dtype,\n",
      "/gpfs/bbp.cscs.ch/home/egassant/conndemo/lib/python3.10/site-packages/numpy/core/_methods.py:129: RuntimeWarning: invalid value encountered in scalar divide\n",
      "  ret = ret.dtype.type(ret / rcount)\n",
      "/gpfs/bbp.cscs.ch/home/egassant/conndemo/lib/python3.10/site-packages/numpy/core/fromnumeric.py:3787: RuntimeWarning: Degrees of freedom <= 0 for slice\n",
      "  return _methods._var(a, axis=axis, dtype=dtype, out=out, ddof=ddof,\n",
      "/gpfs/bbp.cscs.ch/home/egassant/conndemo/lib/python3.10/site-packages/numpy/core/_methods.py:163: RuntimeWarning: invalid value encountered in divide\n",
      "  arrmean = um.true_divide(arrmean, div, out=arrmean,\n",
      "/gpfs/bbp.cscs.ch/home/egassant/conndemo/lib/python3.10/site-packages/numpy/core/_methods.py:198: RuntimeWarning: invalid value encountered in scalar divide\n",
      "  ret = ret.dtype.type(ret / rcount)\n",
      "/gpfs/bbp.cscs.ch/home/egassant/conndemo/lib/python3.10/site-packages/numpy/core/_methods.py:206: RuntimeWarning: Degrees of freedom <= 0 for slice\n",
      "  ret = _var(a, axis=axis, dtype=dtype, out=out, ddof=ddof,\n"
     ]
    },
    {
     "data": {
      "text/html": [
       "<div>\n",
       "<style scoped>\n",
       "    .dataframe tbody tr th:only-of-type {\n",
       "        vertical-align: middle;\n",
       "    }\n",
       "\n",
       "    .dataframe tbody tr th {\n",
       "        vertical-align: top;\n",
       "    }\n",
       "\n",
       "    .dataframe thead th {\n",
       "        text-align: right;\n",
       "    }\n",
       "</style>\n",
       "<table border=\"1\" class=\"dataframe\">\n",
       "  <thead>\n",
       "    <tr style=\"text-align: right;\">\n",
       "      <th></th>\n",
       "      <th>counts</th>\n",
       "      <th>mean</th>\n",
       "      <th>std</th>\n",
       "      <th>sem</th>\n",
       "      <th>weighted_mean</th>\n",
       "    </tr>\n",
       "    <tr>\n",
       "      <th>dim</th>\n",
       "      <th></th>\n",
       "      <th></th>\n",
       "      <th></th>\n",
       "      <th></th>\n",
       "      <th></th>\n",
       "    </tr>\n",
       "  </thead>\n",
       "  <tbody>\n",
       "    <tr>\n",
       "      <th>1</th>\n",
       "      <td>2186</td>\n",
       "      <td>46.866423</td>\n",
       "      <td>13.623935</td>\n",
       "      <td>0.291459</td>\n",
       "      <td>46.866423</td>\n",
       "    </tr>\n",
       "    <tr>\n",
       "      <th>2</th>\n",
       "      <td>2102</td>\n",
       "      <td>47.296384</td>\n",
       "      <td>13.588249</td>\n",
       "      <td>0.296449</td>\n",
       "      <td>52.418716</td>\n",
       "    </tr>\n",
       "    <tr>\n",
       "      <th>3</th>\n",
       "      <td>1719</td>\n",
       "      <td>49.188482</td>\n",
       "      <td>13.575740</td>\n",
       "      <td>0.327531</td>\n",
       "      <td>57.081492</td>\n",
       "    </tr>\n",
       "    <tr>\n",
       "      <th>4</th>\n",
       "      <td>1049</td>\n",
       "      <td>53.491897</td>\n",
       "      <td>12.858776</td>\n",
       "      <td>0.397209</td>\n",
       "      <td>62.689058</td>\n",
       "    </tr>\n",
       "    <tr>\n",
       "      <th>5</th>\n",
       "      <td>277</td>\n",
       "      <td>61.675090</td>\n",
       "      <td>11.381275</td>\n",
       "      <td>0.685072</td>\n",
       "      <td>66.447203</td>\n",
       "    </tr>\n",
       "    <tr>\n",
       "      <th>6</th>\n",
       "      <td>58</td>\n",
       "      <td>65.568966</td>\n",
       "      <td>7.017496</td>\n",
       "      <td>0.929490</td>\n",
       "      <td>66.459459</td>\n",
       "    </tr>\n",
       "  </tbody>\n",
       "</table>\n",
       "</div>"
      ],
      "text/plain": [
       "     counts       mean        std       sem  weighted_mean\n",
       "dim                                                       \n",
       "1      2186  46.866423  13.623935  0.291459      46.866423\n",
       "2      2102  47.296384  13.588249  0.296449      52.418716\n",
       "3      1719  49.188482  13.575740  0.327531      57.081492\n",
       "4      1049  53.491897  12.858776  0.397209      62.689058\n",
       "5       277  61.675090  11.381275  0.685072      66.447203\n",
       "6        58  65.568966   7.017496  0.929490      66.459459"
      ]
     },
     "metadata": {},
     "output_type": "display_data"
    },
    {
     "data": {
      "text/html": [
       "<div>\n",
       "<style scoped>\n",
       "    .dataframe tbody tr th:only-of-type {\n",
       "        vertical-align: middle;\n",
       "    }\n",
       "\n",
       "    .dataframe tbody tr th {\n",
       "        vertical-align: top;\n",
       "    }\n",
       "\n",
       "    .dataframe thead th {\n",
       "        text-align: right;\n",
       "    }\n",
       "</style>\n",
       "<table border=\"1\" class=\"dataframe\">\n",
       "  <thead>\n",
       "    <tr style=\"text-align: right;\">\n",
       "      <th></th>\n",
       "      <th>counts</th>\n",
       "      <th>mean</th>\n",
       "      <th>std</th>\n",
       "      <th>sem</th>\n",
       "      <th>weighted_mean</th>\n",
       "    </tr>\n",
       "    <tr>\n",
       "      <th>dim</th>\n",
       "      <th></th>\n",
       "      <th></th>\n",
       "      <th></th>\n",
       "      <th></th>\n",
       "      <th></th>\n",
       "    </tr>\n",
       "  </thead>\n",
       "  <tbody>\n",
       "    <tr>\n",
       "      <th>1</th>\n",
       "      <td>84</td>\n",
       "      <td>36.107143</td>\n",
       "      <td>9.461725</td>\n",
       "      <td>1.038559</td>\n",
       "      <td>36.107143</td>\n",
       "    </tr>\n",
       "    <tr>\n",
       "      <th>2</th>\n",
       "      <td>383</td>\n",
       "      <td>38.804178</td>\n",
       "      <td>9.898481</td>\n",
       "      <td>0.506450</td>\n",
       "      <td>40.260967</td>\n",
       "    </tr>\n",
       "    <tr>\n",
       "      <th>3</th>\n",
       "      <td>670</td>\n",
       "      <td>42.450746</td>\n",
       "      <td>11.814479</td>\n",
       "      <td>0.456774</td>\n",
       "      <td>43.102651</td>\n",
       "    </tr>\n",
       "    <tr>\n",
       "      <th>4</th>\n",
       "      <td>772</td>\n",
       "      <td>50.555699</td>\n",
       "      <td>12.064411</td>\n",
       "      <td>0.434489</td>\n",
       "      <td>53.444183</td>\n",
       "    </tr>\n",
       "    <tr>\n",
       "      <th>5</th>\n",
       "      <td>219</td>\n",
       "      <td>60.643836</td>\n",
       "      <td>12.071367</td>\n",
       "      <td>0.817576</td>\n",
       "      <td>66.420760</td>\n",
       "    </tr>\n",
       "    <tr>\n",
       "      <th>6</th>\n",
       "      <td>58</td>\n",
       "      <td>65.568966</td>\n",
       "      <td>7.017496</td>\n",
       "      <td>0.929490</td>\n",
       "      <td>66.459459</td>\n",
       "    </tr>\n",
       "  </tbody>\n",
       "</table>\n",
       "</div>"
      ],
      "text/plain": [
       "     counts       mean        std       sem  weighted_mean\n",
       "dim                                                       \n",
       "1        84  36.107143   9.461725  1.038559      36.107143\n",
       "2       383  38.804178   9.898481  0.506450      40.260967\n",
       "3       670  42.450746  11.814479  0.456774      43.102651\n",
       "4       772  50.555699  12.064411  0.434489      53.444183\n",
       "5       219  60.643836  12.071367  0.817576      66.420760\n",
       "6        58  65.568966   7.017496  0.929490      66.459459"
      ]
     },
     "metadata": {},
     "output_type": "display_data"
    }
   ],
   "source": [
    "df_edges_ge = nstats.edge_stats_participation(edge_par, av_nbd_size_edge, condition=operator.ge)\n",
    "df_edges_eq = nstats.edge_stats_participation(edge_par, av_nbd_size_edge, condition=operator.eq)\n",
    "display(df_edges_ge,df_edges_eq)"
   ]
  },
  {
   "cell_type": "markdown",
   "id": "3e94553c-1313-4e4d-bd46-37981c38e835",
   "metadata": {},
   "source": [
    "Based on the above, understand what the output of the commands above means.  This is a natural analysis to do on correlation type data. "
   ]
  },
  {
   "cell_type": "code",
   "execution_count": 13,
   "id": "7db6bafb-fee0-4bb0-93dc-19f4f2b3c8d8",
   "metadata": {},
   "outputs": [
    {
     "data": {
      "text/plain": [
       "Text(0, 0.5, 'Neigborhood size')"
      ]
     },
     "execution_count": 13,
     "metadata": {},
     "output_type": "execute_result"
    },
    {
     "data": {
      "image/png": "[encoded data removed]",
      "text/plain": [
       "<Figure size 640x480 with 1 Axes>"
      ]
     },
     "metadata": {},
     "output_type": "display_data"
    }
   ],
   "source": [
    "plt.suptitle(\"Average neighbood size of a connection across dimension\") \n",
    "plt.errorbar(df_edges_ge.index, df_edges_ge[\"mean\"], yerr=df_edges_ge[\"sem\"],label=\"maximal\", marker=\"o\")\n",
    "plt.errorbar(df_edges_eq.index, df_edges_eq[\"mean\"], yerr=df_edges_eq[\"sem\"],label=\"all\", marker=\"o\")\n",
    "plt.legend(frameon=False)\n",
    "plt.xlabel(\"Dimension\") \n",
    "plt.ylabel(\"Neigborhood size\") "
   ]
  },
  {
   "cell_type": "code",
   "execution_count": null,
   "id": "7dc30274-b779-4bcf-a032-455b459ab405",
   "metadata": {},
   "outputs": [],
   "source": []
  }
 ],
 "metadata": {
  "kernelspec": {
   "display_name": "Python 3 (ipykernel)",
   "language": "python",
   "name": "python3"
  },
  "language_info": {
   "codemirror_mode": {
    "name": "ipython",
    "version": 3
   },
   "file_extension": ".py",
   "mimetype": "text/x-python",
   "name": "python",
   "nbconvert_exporter": "python",
   "pygments_lexer": "ipython3",
   "version": "3.10.8"
  }
 },
 "nbformat": 4,
 "nbformat_minor": 5
}
